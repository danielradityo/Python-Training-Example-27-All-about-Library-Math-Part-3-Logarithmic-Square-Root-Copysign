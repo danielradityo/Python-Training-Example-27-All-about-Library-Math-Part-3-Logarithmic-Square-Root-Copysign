{
 "cells": [
  {
   "cell_type": "markdown",
   "metadata": {},
   "source": [
    "# Python Training Example #27 All about Library Math Part 3 Logarithmic, Square Root, Copysign"
   ]
  },
  {
   "cell_type": "markdown",
   "metadata": {},
   "source": [
    "## How import math to your code"
   ]
  },
  {
   "cell_type": "code",
   "execution_count": 2,
   "metadata": {},
   "outputs": [],
   "source": [
    "# Math is a library for use mathematics command\n",
    "import math"
   ]
  },
  {
   "cell_type": "markdown",
   "metadata": {},
   "source": [
    "## Crate Variable"
   ]
  },
  {
   "cell_type": "code",
   "execution_count": 11,
   "metadata": {},
   "outputs": [],
   "source": [
    "a = 3.86\n",
    "b = -6.14\n",
    "c = 4\n",
    "d = 81"
   ]
  },
  {
   "cell_type": "markdown",
   "metadata": {},
   "source": [
    "## Logarithmic command"
   ]
  },
  {
   "cell_type": "code",
   "execution_count": 8,
   "metadata": {},
   "outputs": [
    {
     "name": "stdout",
     "output_type": "stream",
     "text": [
      "Log 100 =  3.0\n",
      "Log 9 =  2.0\n",
      "Log 9 =  4.0\n"
     ]
    }
   ],
   "source": [
    "# .log() use for make calculate logarithmic from a number become a base number\n",
    "j_log = math.log(64, 4)\n",
    "k_log = math.log(9, 3)\n",
    "l_log = math.log(16, 2)\n",
    "print('Log 100 = ', j_log)\n",
    "print('Log 9 = ', k_log)\n",
    "print('Log 9 = ', l_log)"
   ]
  },
  {
   "cell_type": "markdown",
   "metadata": {},
   "source": [
    "## Square Root command"
   ]
  },
  {
   "cell_type": "code",
   "execution_count": 12,
   "metadata": {},
   "outputs": [
    {
     "name": "stdout",
     "output_type": "stream",
     "text": [
      "Square Root from c =  2.0\n",
      "Square Root from d =  9.0\n"
     ]
    }
   ],
   "source": [
    "# .sqrt use for calculate square root from a number\n",
    "c_sqrt = math.sqrt(c)\n",
    "d_sqrt = math.sqrt(d)\n",
    "print('Square Root from c = ', c_sqrt)\n",
    "print('Square Root from d = ', d_sqrt)"
   ]
  },
  {
   "cell_type": "markdown",
   "metadata": {},
   "source": [
    "## Copysign command"
   ]
  },
  {
   "cell_type": "code",
   "execution_count": 13,
   "metadata": {},
   "outputs": [
    {
     "name": "stdout",
     "output_type": "stream",
     "text": [
      "Copy Sign number a and b =  -3.86\n"
     ]
    }
   ],
   "source": [
    "# .copysign use for copy a positive or negative number\n",
    "ab_copysign = math.copysign(a, b)\n",
    "print('Copy Sign number a and b = ', ab_copysign)"
   ]
  }
 ],
 "metadata": {
  "kernelspec": {
   "display_name": "Python 3",
   "language": "python",
   "name": "python3"
  },
  "language_info": {
   "codemirror_mode": {
    "name": "ipython",
    "version": 3
   },
   "file_extension": ".py",
   "mimetype": "text/x-python",
   "name": "python",
   "nbconvert_exporter": "python",
   "pygments_lexer": "ipython3",
   "version": "3.8.5"
  }
 },
 "nbformat": 4,
 "nbformat_minor": 4
}
